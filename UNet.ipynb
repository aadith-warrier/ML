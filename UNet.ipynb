{
 "cells": [
  {
   "cell_type": "markdown",
   "metadata": {},
   "source": [
    "# Implementation of the UNet Semantic Segmentation Architecture"
   ]
  },
  {
   "cell_type": "code",
   "execution_count": 1,
   "metadata": {},
   "outputs": [],
   "source": [
    "import torch\n",
    "import torch.nn as nn\n",
    "import torchvision"
   ]
  },
  {
   "cell_type": "code",
   "execution_count": 2,
   "metadata": {},
   "outputs": [],
   "source": [
    "class Encode_Block(nn.Module):    \n",
    "    \n",
    "    def __init__(self,channel_in,channel_out, filter_size, pool_size):\n",
    "        super(Encode_Block, self).__init__()\n",
    "        self.conv1 = nn.Conv2d(channel_in, channel_out, filter_size)\n",
    "        self.r1 = nn.ReLU()\n",
    "        self.conv2 = nn.Conv2d(channel_out, channel_out, filter_size)\n",
    "        self.r2 = nn.ReLU()\n",
    "        self.mp = nn.MaxPool2d(pool_size , stride=2)\n",
    "    \n",
    "    def forward(self, x):\n",
    "        out = self.conv1(x)\n",
    "        out = self.r1(out)\n",
    "        out = self.conv2(out)\n",
    "        out = self.r2(out)\n",
    "        cache=out\n",
    "        out = self.mp(out)\n",
    "    \n",
    "        return out, cache\n",
    "    \n",
    "class Decode_Block(nn.Module):\n",
    "    \n",
    "    def __init__(self, channel_in, channel_out, upconv_size, filter_size):\n",
    "        super(Decode_Block, self).__init__()\n",
    "        self.upconv1 = nn.ConvTranspose2d(channel_in, channel_out, upconv_size, stride=2)\n",
    "        self.conv1 = nn.Conv2d(channel_in, channel_out, filter_size)\n",
    "        self.r1 = nn.ReLU()\n",
    "        self.conv2 = nn.Conv2d(channel_out, channel_out, filter_size)\n",
    "        self.r2 = nn.ReLU()\n",
    "        self.conv3 = nn.Conv2d(channel_out, channel_out, filter_size)\n",
    "        self.r3 = nn.ReLU()\n",
    "\n",
    "    def forward(self,x, cache):\n",
    "        out = self.upconv1(x)\n",
    "        crop = torchvision.transforms.CenterCrop(out.shape[2:4])\n",
    "        cropped = crop(cache)\n",
    "        out = torch.cat((cropped,out),dim=1)\n",
    "        out = self.conv1(out)\n",
    "        out = self.r1(out)\n",
    "        out = self.conv2(out)\n",
    "        out = self.r2(out)\n",
    "        out = self.conv3(out)\n",
    "        out = self.r3(out)\n",
    "    \n",
    "        return out\n",
    "    \n",
    "class UNet(nn.Module):\n",
    "    \n",
    "    def __init__(self):\n",
    "        super(UNet, self).__init__()\n",
    "        self.Encoder1 = Encode_Block(3, 64, 3, 2)\n",
    "        self.Encoder2 = Encode_Block(64, 128, 3, 2)\n",
    "        self.Encoder3 = Encode_Block(128, 256, 3, 2)\n",
    "        self.Encoder4 = Encode_Block(256, 512, 3, 2)\n",
    "        \n",
    "        self.conv1=nn.Conv2d(512, 1024, 3)\n",
    "        self.conv2=nn.Conv2d(1024, 1024, 3)\n",
    "        \n",
    "        self.Decoder1  = Decode_Block(1024, 512, 2, 3)\n",
    "        self.Decoder2  = Decode_Block(512, 256, 2, 3)\n",
    "        self.Decoder3  = Decode_Block(256, 128, 2, 3)\n",
    "        self.Decoder4  = Decode_Block(128, 64, 2, 3)\n",
    "        \n",
    "        self.conv3 = nn.Conv2d(64,64,3)\n",
    "        self.conv4 = nn.Conv2d(64,3,1)\n",
    "        \n",
    "        self.sftmax = nn.Softmax(dim=1)\n",
    "        \n",
    "        \n",
    "    def forward(self,x):\n",
    "        \n",
    "        out, cache1 = self.Encoder1(x)\n",
    "        out, cache2 = self.Encoder2(out)\n",
    "        out, cache3 = self.Encoder3(out)\n",
    "        out, cache4 = self.Encoder4(out)\n",
    "        out = self.conv1(out)\n",
    "        out = self.conv2(out)\n",
    "        out = self.Decoder1(out, cache4)\n",
    "        out = self.Decoder2(out, cache3)\n",
    "        out = self.Decoder3(out, cache2)\n",
    "        out = self.Decoder4(out, cache1)\n",
    "        out = self.conv3(out)\n",
    "        out = self.conv4(out)\n",
    "        resize = torchvision.transforms.Resize((572, 572),interpolation=torchvision.transforms.InterpolationMode.BICUBIC)\n",
    "        out = resize(out)\n",
    "    \n",
    "        return out\n",
    "        \n",
    "        \n",
    "    \n",
    "model  = UNet()      \n",
    "        "
   ]
  }
 ],
 "metadata": {
  "kernelspec": {
   "display_name": "Python 3.9.5 64-bit",
   "language": "python",
   "name": "python3"
  },
  "language_info": {
   "codemirror_mode": {
    "name": "ipython",
    "version": 3
   },
   "file_extension": ".py",
   "mimetype": "text/x-python",
   "name": "python",
   "nbconvert_exporter": "python",
   "pygments_lexer": "ipython3",
   "version": "3.9.5"
  },
  "orig_nbformat": 4,
  "vscode": {
   "interpreter": {
    "hash": "b0913861149724dc0e921386c7397f64b430746f163d1dddb257d7616452f85a"
   }
  }
 },
 "nbformat": 4,
 "nbformat_minor": 2
}
